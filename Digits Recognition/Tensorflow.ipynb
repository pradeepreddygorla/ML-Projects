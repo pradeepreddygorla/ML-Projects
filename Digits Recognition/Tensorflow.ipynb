{
  "cells": [
    {
      "cell_type": "markdown",
      "metadata": {
        "collapsed": true,
        "id": "1GPwDVLlQ0J9"
      },
      "source": [
        "## Hand Written Digits Recognition Using TensorFlow API\n",
        "\n",
        "A collection of 70,000 handwriting samples of the numbers 0-9. Our challenge - to predict which number each handwritten image represents.\n",
        "\n",
        "Each image is 28x28 grayscale pixels, so we can treat each image as just a 1D array, or tensor, of 784 numbers. As long as we're consistent in how we flatten each image into an array, it'll still work. Yes, it would be even better if we could preserve the 2D structure of the data while training - but we'll get there later.\n",
        "\n",
        "Let's start by importing the data set, which conveniently is part of tensorflow itself. We will reshape the images into the 1D arrays of 784 pixels that we expect, and the label data into one-hot-encoded categorical format (which we will convert during our loss function defination)"
      ]
    },
    {
      "cell_type": "code",
      "execution_count": 1,
      "metadata": {
        "colab": {
          "base_uri": "https://localhost:8080/"
        },
        "id": "FuDJEnK8Q0J-",
        "outputId": "954d9c1b-1596-4bfa-ba3b-2b9953dfe672"
      },
      "outputs": [
        {
          "output_type": "stream",
          "name": "stdout",
          "text": [
            "Downloading data from https://storage.googleapis.com/tensorflow/tf-keras-datasets/mnist.npz\n",
            "11490434/11490434 [==============================] - 0s 0us/step\n"
          ]
        }
      ],
      "source": [
        "# Prepare MNIST data.\n",
        "import numpy as np\n",
        "import tensorflow as tf\n",
        "from tensorflow.keras.datasets import mnist\n",
        "\n",
        "# MNIST dataset parameters\n",
        "num_classes = 10 # total classes (0-9 digits)\n",
        "num_features = 784 # data features (img shape: 28*28)\n",
        "\n",
        "(x_train, y_train), (x_test, y_test) = mnist.load_data()\n",
        "\n",
        "# Convert to float32\n",
        "x_train, x_test = np.array(x_train, np.float32), np.array(x_test, np.float32)\n",
        "\n",
        "# Flatten images to 1-D vector of 784 features (28*28)\n",
        "x_train, x_test = x_train.reshape([-1, num_features]), x_test.reshape([-1, num_features])\n",
        "\n",
        "# Normalize images value from [0, 255] to [0, 1]\n",
        "x_train, x_test = x_train / 255., x_test / 255."
      ]
    },
    {
      "cell_type": "markdown",
      "metadata": {
        "id": "BKrIcjE7Q0J-"
      },
      "source": [
        "MNIST provides 60,000 samples in a training data set, and 10,000 samples in a test data set.\n",
        "\n",
        "The training images are therefore a tensor of shape [60,000, 784] - 60,000 instances of 784 numbers that represent each image. The training labels are a one-dimensional tensor of 60,000 labels that range from 0 to 9.\n",
        "\n",
        "Let's define a little function to let us visualize what the input data looks like, and pick some random training image to see what it is we're up against:\n"
      ]
    },
    {
      "cell_type": "code",
      "execution_count": 2,
      "metadata": {
        "colab": {
          "base_uri": "https://localhost:8080/",
          "height": 452
        },
        "id": "WjOtUVKQQ0J_",
        "outputId": "bc559b67-fc17-46c4-95af-cda4d154c00b"
      },
      "outputs": [
        {
          "output_type": "display_data",
          "data": {
            "text/plain": [
              "<Figure size 640x480 with 1 Axes>"
            ],
            "image/png": "[encoded data removed]"
          },
          "metadata": {}
        }
      ],
      "source": [
        "%matplotlib inline\n",
        "\n",
        "import matplotlib.pyplot as plt\n",
        "\n",
        "def display_sample(num):\n",
        "    #Print this sample's label\n",
        "    label = y_train[num]\n",
        "\n",
        "    #Reshape the 784 values to a 28x28 image\n",
        "    image = x_train[num].reshape([28,28])\n",
        "    plt.title('Sample: %d  Label: %d' % (num, label))\n",
        "    plt.imshow(image, cmap=plt.get_cmap('gray_r'))\n",
        "    plt.show()\n",
        "\n",
        "display_sample(1000)"
      ]
    },
    {
      "cell_type": "markdown",
      "metadata": {
        "id": "a4EbLOr5Q0KA"
      },
      "source": [
        "We will now define few training parameters (or \"hyperparameters\") and use tf.data API to shuffle our data and divide it into batches. Think of these as parameters - we build up our neural network model without knowledge of the actual data that will be fed into it; we just need to construct it in such a way that our data will fit in.\n",
        "\n",
        "We'll use a Dataset within Tensorflow to wrap our traning features and labels, and use functions of the Dataset to randomly shuffle it and batch it up into smaller chunks for each iteration of training."
      ]
    },
    {
      "cell_type": "code",
      "execution_count": 3,
      "metadata": {
        "id": "g8E0AryDQ0KA"
      },
      "outputs": [],
      "source": [
        "# Training parameters.\n",
        "learning_rate = 0.001\n",
        "training_steps = 3000\n",
        "batch_size = 250\n",
        "display_step = 100\n",
        "\n",
        "# Network parameters.\n",
        "n_hidden = 512 # Number of neurons."
      ]
    },
    {
      "cell_type": "code",
      "execution_count": 4,
      "metadata": {
        "id": "difc4bqfQ0KB"
      },
      "outputs": [],
      "source": [
        "# Use tf.data API to shuffle and batch data.\n",
        "train_data = tf.data.Dataset.from_tensor_slices((x_train, y_train))\n",
        "train_data = train_data.repeat().shuffle(60000).batch(batch_size).prefetch(1)"
      ]
    },
    {
      "cell_type": "markdown",
      "metadata": {
        "id": "4WgwBTtVQ0KB"
      },
      "source": [
        "So let's start setting up that artificial neural network. We'll start by creating variables to store and keep track of weights and biases of different layers.\n",
        "\n",
        "We'll need an input layer with one node per input pixel per image, or 784 nodes. That will feed into a hidden layer of some arbitrary size - let's pick 512, given by n_hidden. That hidden layer will output 10 values, given by num_classes, corresonding to scores for each classification to be fed into softmax.\n"
      ]
    },
    {
      "cell_type": "code",
      "execution_count": 5,
      "metadata": {
        "colab": {
          "base_uri": "https://localhost:8080/"
        },
        "id": "MUkqO6LAQ0KB",
        "outputId": "60c3cf9f-8f93-483b-acba-498bc76fd876"
      },
      "outputs": [
        {
          "output_type": "stream",
          "name": "stderr",
          "text": [
            "/usr/local/lib/python3.10/dist-packages/keras/src/initializers/initializers.py:120: UserWarning: The initializer RandomNormal is unseeded and being called multiple times, which will return identical values each time (even if the initializer is unseeded). Please update your code to provide a seed to the initializer, or avoid using the same initializer instance more than once.\n",
            "  warnings.warn(\n"
          ]
        }
      ],
      "source": [
        "# Store layers weight & bias\n",
        "\n",
        "# A random value generator to initialize weights initially\n",
        "random_normal = tf.initializers.RandomNormal()\n",
        "\n",
        "weights = {\n",
        "    'h': tf.Variable(random_normal([num_features, n_hidden])),\n",
        "    'out': tf.Variable(random_normal([n_hidden, num_classes]))\n",
        "}\n",
        "biases = {\n",
        "    'b': tf.Variable(tf.zeros([n_hidden])),\n",
        "    'out': tf.Variable(tf.zeros([num_classes]))\n",
        "}"
      ]
    },
    {
      "cell_type": "markdown",
      "metadata": {
        "id": "rv5wTqQmQ0KB"
      },
      "source": [
        "Now let's set up the neural network itself. We'll feed our input data into the first layer of our neural network. All this layer does is multiply these inputs by our weight \"h\" tensor which will be learned over time.\n",
        "\n",
        "Then we'll feed that into our hidden layer, which applies the sigmoid activation function to the weighted inputs with our learned biases added in as well.\n",
        "\n",
        "Finally our output layer, called out_layer, multiplies in the learned weights of the hidden layer and adds in the hidden layer's bias term."
      ]
    },
    {
      "cell_type": "code",
      "execution_count": 6,
      "metadata": {
        "id": "ByU-91NVQ0KC"
      },
      "outputs": [],
      "source": [
        "# Create model.\n",
        "def neural_net(inputData):\n",
        "    # Hidden fully connected layer with 512 neurons.\n",
        "    hidden_layer = tf.add(tf.matmul(inputData, weights['h']), biases['b'])\n",
        "    # Apply sigmoid to hidden_layer output for non-linearity.\n",
        "    hidden_layer = tf.nn.sigmoid(hidden_layer)\n",
        "\n",
        "    # Output fully connected layer with a neuron for each class.\n",
        "    out_layer = tf.matmul(hidden_layer, weights['out']) + biases['out']\n",
        "    # Apply softmax to normalize the logits to a probability distribution.\n",
        "    return tf.nn.softmax(out_layer)"
      ]
    },
    {
      "cell_type": "markdown",
      "metadata": {
        "id": "3CjvA8c_Q0KC"
      },
      "source": [
        "Make sure you noodle on the above block. This sets up a deep neural network like the one we talked about in our slides.\n",
        "\n",
        "output layer\n",
        "\n",
        "hidden layer\n",
        "\n",
        "input layer\n",
        "\n",
        "Next we will define our loss function for use in measuring our progress in gradient descent: cross-entropy, which applies a logarithmic scale to penalize incorrect classifications much more than ones that are close. In this function,  y_pred is the output of our final layer, and we're comparing that against the target labels used for training in y_true.\n",
        "\n",
        "To compare our known \"true\" labels of 0-9 to the output of our neural network, we need to convert the labels to \"one-hot\" encoding. Our output layer has a neuron for each possible label of 0-9, not a single neuron with an integer in it. For example, let's say a known \"true\" label for an image is 1. We would represent that in one-hot format as [0, 1, 0, 0, 0, 0, 0, 0, 0, 0] (remember we start counting at 0.) This makes it easier to compare the known label to the output neurons."
      ]
    },
    {
      "cell_type": "code",
      "execution_count": 7,
      "metadata": {
        "id": "epov0ZPjQ0KC"
      },
      "outputs": [],
      "source": [
        "def cross_entropy(y_pred, y_true):\n",
        "    # Encode label to a one hot vector.\n",
        "    y_true = tf.one_hot(y_true, depth=num_classes)\n",
        "    # Clip prediction values to avoid log(0) error.\n",
        "    y_pred = tf.clip_by_value(y_pred, 1e-9, 1.)\n",
        "    # Compute cross-entropy.\n",
        "    return tf.reduce_mean(-tf.reduce_sum(y_true * tf.math.log(y_pred)))"
      ]
    },
    {
      "cell_type": "markdown",
      "metadata": {
        "id": "HZamK6zNQ0KC"
      },
      "source": [
        "Now we will set up our stocastic gradient descent optimizer, based on our previously defined hyperparameters and our loss function defined above."
      ]
    },
    {
      "cell_type": "code",
      "execution_count": 8,
      "metadata": {
        "id": "0EfSKNLgQ0KC"
      },
      "outputs": [],
      "source": [
        "optimizer = tf.keras.optimizers.SGD(learning_rate)\n",
        "\n",
        "def run_optimization(x, y):\n",
        "    # Wrap computation inside a GradientTape for automatic differentiation.\n",
        "    with tf.GradientTape() as g:\n",
        "        pred = neural_net(x)\n",
        "        loss = cross_entropy(pred, y)\n",
        "\n",
        "    # Variables to update, i.e. trainable variables.\n",
        "    trainable_variables = list(weights.values()) + list(biases.values())\n",
        "\n",
        "    # Compute gradients.\n",
        "    gradients = g.gradient(loss, trainable_variables)\n",
        "\n",
        "    # Update W and b following gradients.\n",
        "    optimizer.apply_gradients(zip(gradients, trainable_variables))"
      ]
    },
    {
      "cell_type": "markdown",
      "metadata": {
        "id": "Y-tVx-mcQ0KC"
      },
      "source": [
        "Next we'll want to train our neural network and measure its accuracy. First let's define some methods for measuring the accuracy of our trained model.\n",
        "\n",
        "correct_prediction will look at the output of our neural network (in digit_weights) and choose the label with the highest value, and see if that agrees with the target label given. During testing, digit_weights will be our prediction based on the test data we give the network, and target_labels is a placeholder that we will assign to our test labels. Ultimately this gives us a 1 for every correct classification, and a 0 for every incorrect classification.\n",
        "\n",
        "\"accuracy\" then takes the average of all the classifications to produce an overall score for our model's accuracy."
      ]
    },
    {
      "cell_type": "code",
      "execution_count": 9,
      "metadata": {
        "id": "e5COoXTKQ0KD"
      },
      "outputs": [],
      "source": [
        "# Accuracy metric.\n",
        "def accuracy(y_pred, y_true):\n",
        "    # Predicted class is the index of highest score in prediction vector (i.e. argmax).\n",
        "    correct_prediction = tf.equal(tf.argmax(y_pred, 1), tf.cast(y_true, tf.int64))\n",
        "    return tf.reduce_mean(tf.cast(correct_prediction, tf.float32), axis=-1)"
      ]
    },
    {
      "cell_type": "markdown",
      "metadata": {
        "id": "zq8faLtFQ0KD"
      },
      "source": [
        "\n",
        "Tensorflow 2 removed the need to set up a session object an explicitly initialize your varaibles. So we can jump right into training our network in 3000 steps (or \"epochs\", given by training_steps) with batches of 250 samples set up earlier in our training data. At each step, we assign run our optimization function on the current batch of images and labels from the training data.\n",
        "\n",
        "At every 100 epochs (given by display_step), we print out the current values of the loss function and our accuracy metric, by comparing our predicted labels against the known \"true\" labels. To do this we run our neural network using our trained weights and biases at each point on the current batch of training images, and compute cross entropy and accuracy of the resulting predictions (\"pred\") to the known correct labels (\"batch_y\")."
      ]
    },
    {
      "cell_type": "code",
      "execution_count": 10,
      "metadata": {
        "colab": {
          "base_uri": "https://localhost:8080/"
        },
        "id": "inRrm5hoQ0KD",
        "outputId": "2833fec0-4aa0-4a0e-f290-8ff41ecaa866"
      },
      "outputs": [
        {
          "output_type": "stream",
          "name": "stdout",
          "text": [
            "Training epoch: 100, Loss: 159.087708, Accuracy: 0.844000\n",
            "Training epoch: 200, Loss: 112.110718, Accuracy: 0.852000\n",
            "Training epoch: 300, Loss: 80.239159, Accuracy: 0.912000\n",
            "Training epoch: 400, Loss: 96.613251, Accuracy: 0.916000\n",
            "Training epoch: 500, Loss: 93.764297, Accuracy: 0.912000\n",
            "Training epoch: 600, Loss: 70.225609, Accuracy: 0.904000\n",
            "Training epoch: 700, Loss: 85.010529, Accuracy: 0.900000\n",
            "Training epoch: 800, Loss: 75.047821, Accuracy: 0.904000\n",
            "Training epoch: 900, Loss: 73.581749, Accuracy: 0.920000\n",
            "Training epoch: 1000, Loss: 76.265587, Accuracy: 0.924000\n",
            "Training epoch: 1100, Loss: 60.886311, Accuracy: 0.948000\n",
            "Training epoch: 1200, Loss: 58.971874, Accuracy: 0.940000\n",
            "Training epoch: 1300, Loss: 52.107296, Accuracy: 0.944000\n",
            "Training epoch: 1400, Loss: 59.342648, Accuracy: 0.944000\n",
            "Training epoch: 1500, Loss: 83.932953, Accuracy: 0.860000\n",
            "Training epoch: 1600, Loss: 60.178093, Accuracy: 0.940000\n",
            "Training epoch: 1700, Loss: 64.465759, Accuracy: 0.916000\n",
            "Training epoch: 1800, Loss: 56.922710, Accuracy: 0.932000\n",
            "Training epoch: 1900, Loss: 71.516212, Accuracy: 0.916000\n",
            "Training epoch: 2000, Loss: 77.356415, Accuracy: 0.896000\n",
            "Training epoch: 2100, Loss: 81.757408, Accuracy: 0.912000\n",
            "Training epoch: 2200, Loss: 41.816116, Accuracy: 0.956000\n",
            "Training epoch: 2300, Loss: 32.005165, Accuracy: 0.964000\n",
            "Training epoch: 2400, Loss: 50.157867, Accuracy: 0.936000\n",
            "Training epoch: 2500, Loss: 40.271233, Accuracy: 0.944000\n",
            "Training epoch: 2600, Loss: 52.451275, Accuracy: 0.940000\n",
            "Training epoch: 2700, Loss: 48.079990, Accuracy: 0.952000\n",
            "Training epoch: 2800, Loss: 57.000271, Accuracy: 0.952000\n",
            "Training epoch: 2900, Loss: 50.087143, Accuracy: 0.968000\n",
            "Training epoch: 3000, Loss: 64.315346, Accuracy: 0.932000\n"
          ]
        }
      ],
      "source": [
        "# Run training for the given number of steps.\n",
        "for step, (batch_x, batch_y) in enumerate(train_data.take(training_steps), 1):\n",
        "    # Run the optimization to update W and b values.\n",
        "    run_optimization(batch_x, batch_y)\n",
        "\n",
        "    if step % display_step == 0:\n",
        "        pred = neural_net(batch_x)\n",
        "        loss = cross_entropy(pred, batch_y)\n",
        "        acc = accuracy(pred, batch_y)\n",
        "        print(\"Training epoch: %i, Loss: %f, Accuracy: %f\" % (step, loss, acc))"
      ]
    },
    {
      "cell_type": "code",
      "execution_count": 11,
      "metadata": {
        "colab": {
          "base_uri": "https://localhost:8080/"
        },
        "id": "sz-KXT_6Q0KD",
        "outputId": "ae3bb499-3ed4-4c73-d5ac-253fdcedb075"
      },
      "outputs": [
        {
          "output_type": "stream",
          "name": "stdout",
          "text": [
            "Test Accuracy: 0.931700\n"
          ]
        }
      ],
      "source": [
        "# Test model on validation set.\n",
        "pred = neural_net(x_test)\n",
        "print(\"Test Accuracy: %f\" % accuracy(pred, y_test))"
      ]
    },
    {
      "cell_type": "markdown",
      "metadata": {
        "id": "8SmaaW5BQ0KD"
      },
      "source": [
        "You should have about 93% accuracy. Not bad!\n",
        "\n",
        "Let's take a look at some of the misclassified images and see just how good or bad our model is, compared to what your own brain can do. We'll go through the first 200 test images and look at the ones that are misclassified:"
      ]
    },
    {
      "cell_type": "code",
      "execution_count": 12,
      "metadata": {
        "colab": {
          "base_uri": "https://localhost:8080/",
          "height": 1000
        },
        "id": "VdBOxvGEQ0KD",
        "outputId": "35b630cc-0198-4d40-8f0a-27a1ee3cf02c"
      },
      "outputs": [
        {
          "output_type": "display_data",
          "data": {
            "text/plain": [
              "<Figure size 640x480 with 1 Axes>"
            ],
            "image/png": "[encoded data removed]"
          },
          "metadata": {}
        },
        {
          "output_type": "stream",
          "name": "stdout",
          "text": [
            "Original Labels: 5\n",
            "Model prediction: 6\n"
          ]
        },
        {
          "output_type": "display_data",
          "data": {
            "text/plain": [
              "<Figure size 640x480 with 1 Axes>"
            ],
            "image/png": "[encoded data removed]"
          },
          "metadata": {}
        },
        {
          "output_type": "stream",
          "name": "stdout",
          "text": [
            "Original Labels: 4\n",
            "Model prediction: 6\n"
          ]
        },
        {
          "output_type": "display_data",
          "data": {
            "text/plain": [
              "<Figure size 640x480 with 1 Axes>"
            ],
            "image/png": "[encoded data removed]"
          },
          "metadata": {}
        },
        {
          "output_type": "stream",
          "name": "stdout",
          "text": [
            "Original Labels: 6\n",
            "Model prediction: 7\n"
          ]
        },
        {
          "output_type": "display_data",
          "data": {
            "text/plain": [
              "<Figure size 640x480 with 1 Axes>"
            ],
            "image/png": "[encoded data removed]"
          },
          "metadata": {}
        },
        {
          "output_type": "stream",
          "name": "stdout",
          "text": [
            "Original Labels: 7\n",
            "Model prediction: 4\n"
          ]
        },
        {
          "output_type": "display_data",
          "data": {
            "text/plain": [
              "<Figure size 640x480 with 1 Axes>"
            ],
            "image/png": "[encoded data removed]"
          },
          "metadata": {}
        },
        {
          "output_type": "stream",
          "name": "stdout",
          "text": [
            "Original Labels: 2\n",
            "Model prediction: 9\n"
          ]
        },
        {
          "output_type": "display_data",
          "data": {
            "text/plain": [
              "<Figure size 640x480 with 1 Axes>"
            ],
            "image/png": "[encoded data removed]"
          },
          "metadata": {}
        },
        {
          "output_type": "stream",
          "name": "stdout",
          "text": [
            "Original Labels: 9\n",
            "Model prediction: 3\n"
          ]
        },
        {
          "output_type": "display_data",
          "data": {
            "text/plain": [
              "<Figure size 640x480 with 1 Axes>"
            ],
            "image/png": "[encoded data removed]"
          },
          "metadata": {}
        },
        {
          "output_type": "stream",
          "name": "stdout",
          "text": [
            "Original Labels: 3\n",
            "Model prediction: 5\n"
          ]
        }
      ],
      "source": [
        "n_images = 200\n",
        "test_images = x_test[:n_images]\n",
        "test_labels = y_test[:n_images]\n",
        "predictions = neural_net(test_images)\n",
        "\n",
        "for i in range(n_images):\n",
        "    model_prediction = np.argmax(predictions.numpy()[i])\n",
        "    if (model_prediction != test_labels[i]):\n",
        "        plt.imshow(np.reshape(test_images[i], [28, 28]), cmap='gray_r')\n",
        "        plt.show()\n",
        "        print(\"Original Labels: %i\" % test_labels[i])\n",
        "        print(\"Model prediction: %i\" % model_prediction)"
      ]
    }
  ],
  "metadata": {
    "kernelspec": {
      "display_name": "Python 3",
      "language": "python",
      "name": "python3"
    },
    "language_info": {
      "codemirror_mode": {
        "name": "ipython",
        "version": 3
      },
      "file_extension": ".py",
      "mimetype": "text/x-python",
      "name": "python",
      "nbconvert_exporter": "python",
      "pygments_lexer": "ipython3",
      "version": "3.7.3"
    },
    "colab": {
      "provenance": []
    }
  },
  "nbformat": 4,
  "nbformat_minor": 0
}